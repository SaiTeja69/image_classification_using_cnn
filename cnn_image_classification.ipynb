{
 "cells": [
  {
   "cell_type": "code",
   "execution_count": 396,
   "metadata": {},
   "outputs": [],
   "source": [
    "import numpy as np\n",
    "import tensorflow as tf\n",
    "import cv2\n",
    "import os\n",
    "from tqdm import tqdm\n",
    "from random import shuffle\n",
    "import tflearn \n",
    "from tflearn.layers.conv import conv_2d, max_pool_2d \n",
    "from tflearn.layers.core import input_data, dropout, fully_connected \n",
    "from tflearn.layers.estimator import regression \n",
    "import matplotlib.pyplot as plt \n"
   ]
  },
  {
   "cell_type": "code",
   "execution_count": 397,
   "metadata": {},
   "outputs": [],
   "source": [
    "num_train_imgs = 1064\n",
    "num_test_imgs = 187\n",
    "num_classes = 3\n",
    "img_px = 22500  \n",
    "IMG_SIZE=150\n",
    "x = 'training_data\\\\images'\n",
    "y = 'test_data\\\\images'\n",
    "TRAIN_DIR=os.path.join(os.getcwd(),x)\n",
    "TEST_DIR=os.path.join(os.getcwd(),y)\n",
    "results_path = 'results'\n",
    "MODEL_NAME = 'carbikeperson-{}-{}.model'.format(LR, '6conv-basic') "
   ]
  },
  {
   "cell_type": "code",
   "execution_count": 398,
   "metadata": {},
   "outputs": [],
   "source": [
    "def label_img(img): \n",
    "    word_label = [z for z in str(img).split('_')] \n",
    "    return word_label[0]"
   ]
  },
  {
   "cell_type": "code",
   "execution_count": 399,
   "metadata": {},
   "outputs": [],
   "source": [
    "def create_train_data(): \n",
    "    training_data = [] \n",
    "    #training_label=[]\n",
    "    for img in tqdm(os.listdir(TRAIN_DIR)): \n",
    "  \n",
    " \n",
    "        label = label_img(img) \n",
    "  \n",
    "        path = os.path.join(TRAIN_DIR, img) \n",
    "\n",
    "        if label=='bike' or label=='bikes':\n",
    "            x=[1,0,0]\n",
    "        elif label=='carsgraz':\n",
    "            x=[0,1,0]\n",
    "        else:\n",
    "            x=[0,0,1]\n",
    "  \n",
    "        # loading the image from the path and then converting them into \n",
    "        # greyscale for easier covnet prob \n",
    "        img = cv2.imread(path, cv2.IMREAD_GRAYSCALE) \n",
    "  \n",
    "        # resizing the image for processing them in the covnet \n",
    "        #img = cv2.resize(img, (IMG_SIZE, IMG_SIZE)) \n",
    "  \n",
    "        # final step-forming the training data list with numpy array of the images \n",
    "        training_data.append([np.array(img),np.array(x)])\n",
    "        shuffle(training_data)\n",
    "        #training_label.append(np.array(label))\n",
    "\n",
    "  \n",
    "    # saving our trained data for further uses if required \n",
    "    np.save('train_data.npy', training_data) \n",
    "    return training_data"
   ]
  },
  {
   "cell_type": "code",
   "execution_count": 400,
   "metadata": {},
   "outputs": [],
   "source": [
    "def process_test_data(): \n",
    "    testing_data = [] \n",
    "    #testing_label=[]\n",
    "    img_num=0\n",
    "    for img in tqdm(os.listdir(TEST_DIR)): \n",
    "        path = os.path.join(TEST_DIR, img) \n",
    "        img = cv2.imread(path, cv2.IMREAD_GRAYSCALE) \n",
    "        #img = cv2.resize(img, (IMG_SIZE, IMG_SIZE)) \n",
    "        testing_data.append([np.array(img),img_num])\n",
    "        #testing_label.append(img_num)\n",
    "        img_num+=1\n",
    "        hell=np.array(img)\n",
    "        shuffle(testing_data)\n",
    "     \n",
    "    np.save('test_data.npy', testing_data) \n",
    "    return testing_data"
   ]
  },
  {
   "cell_type": "code",
   "execution_count": 401,
   "metadata": {},
   "outputs": [
    {
     "name": "stderr",
     "output_type": "stream",
     "text": [
      "100%|████████████████████████████████████████████████████████████████████████████| 1064/1064 [00:00<00:00, 1373.84it/s]\n",
      "100%|██████████████████████████████████████████████████████████████████████████████| 187/187 [00:00<00:00, 2095.80it/s]\n"
     ]
    }
   ],
   "source": [
    "train_data = create_train_data() \n",
    "test_data = process_test_data()"
   ]
  },
  {
   "cell_type": "code",
   "execution_count": 402,
   "metadata": {},
   "outputs": [
    {
     "data": {
      "text/plain": [
       "array([1, 0, 0])"
      ]
     },
     "execution_count": 402,
     "metadata": {},
     "output_type": "execute_result"
    }
   ],
   "source": [
    "train_data[0][1]"
   ]
  },
  {
   "cell_type": "code",
   "execution_count": 403,
   "metadata": {},
   "outputs": [],
   "source": [
    "LR = 1e-3\n",
    "tf.reset_default_graph() \n",
    "convnet = input_data(shape =[None, IMG_SIZE, IMG_SIZE, 1], name ='input') \n",
    "  \n",
    "convnet = conv_2d(convnet, 32, 5, activation ='relu') \n",
    "convnet = max_pool_2d(convnet, 5) \n",
    "  \n",
    "convnet = conv_2d(convnet, 64, 5, activation ='relu') \n",
    "convnet = max_pool_2d(convnet, 5) \n",
    "  \n",
    "convnet = conv_2d(convnet, 128, 5, activation ='relu') \n",
    "convnet = max_pool_2d(convnet, 5) \n",
    "  \n",
    "convnet = conv_2d(convnet, 64, 5, activation ='relu') \n",
    "convnet = max_pool_2d(convnet, 5) \n",
    "  \n",
    "convnet = conv_2d(convnet, 32, 5, activation ='relu') \n",
    "convnet = max_pool_2d(convnet, 5) \n",
    "  \n",
    "convnet = fully_connected(convnet, 1024, activation ='relu') \n",
    "convnet = dropout(convnet, 0.8) \n",
    "  \n",
    "convnet = fully_connected(convnet, 3, activation ='softmax') \n",
    "convnet = regression(convnet, optimizer ='adam', learning_rate = LR, \n",
    "      loss ='categorical_crossentropy', name ='targets') \n",
    "  \n",
    "model = tflearn.DNN(convnet, tensorboard_dir ='log')\n",
    "\n",
    "\n"
   ]
  },
  {
   "cell_type": "code",
   "execution_count": 404,
   "metadata": {},
   "outputs": [],
   "source": [
    "train = train_data[:-500] \n",
    "test = train_data[-500:] \n",
    "  \n",
    "'''Setting up the features and lables'''\n",
    "# X-Features & Y-Labels \n",
    "  \n",
    "X = np.array([i[0] for i in train]).reshape(-1, IMG_SIZE, IMG_SIZE, 1) \n",
    "Y = [i[1] for i in train] \n",
    "test_x = np.array([i[0] for i in test]).reshape(-1, IMG_SIZE, IMG_SIZE, 1) \n",
    "test_y = [i[1] for i in test] "
   ]
  },
  {
   "cell_type": "code",
   "execution_count": 405,
   "metadata": {},
   "outputs": [
    {
     "data": {
      "text/plain": [
       "array([1, 0, 0])"
      ]
     },
     "execution_count": 405,
     "metadata": {},
     "output_type": "execute_result"
    }
   ],
   "source": [
    "Y[0]"
   ]
  },
  {
   "cell_type": "code",
   "execution_count": 406,
   "metadata": {},
   "outputs": [
    {
     "name": "stdout",
     "output_type": "stream",
     "text": [
      "Training Step: 44  | total loss: 1.02063 | time: 3.987s\n",
      "| Adam | epoch: 005 | loss: 1.02063 - acc: 0.5203 -- iter: 512/564\n",
      "Training Step: 45  | total loss: 1.01323 | time: 5.755s\n",
      "| Adam | epoch: 005 | loss: 1.01323 - acc: 0.5327 | val_loss: 0.98048 - val_acc: 0.5940 -- iter: 564/564\n",
      "--\n",
      "INFO:tensorflow:C:\\Users\\sai nivedita\\Desktop\\WORK\\image_classification_using_cnn\\carbikeperson-0.001-6conv-basic.model is not in all_model_checkpoint_paths. Manually adding it.\n"
     ]
    }
   ],
   "source": [
    "model.fit({'input': X}, {'targets': Y}, n_epoch = 5,  \n",
    "    validation_set =({'input': test_x}, {'targets': test_y}),  \n",
    "    snapshot_step = 500, show_metric = True, run_id = MODEL_NAME) \n",
    "model.save(MODEL_NAME) "
   ]
  },
  {
   "cell_type": "code",
   "execution_count": 440,
   "metadata": {},
   "outputs": [],
   "source": [
    "ax=train_data[10][0]\n",
    "ax.shape\n",
    "y=ax.reshape(1,150,150,1)\n",
    "zzz=Image.fromarray(ax)\n",
    "zzz.show()\n",
    "y.shape\n",
    "model_out=model.predict(y)"
   ]
  },
  {
   "cell_type": "code",
   "execution_count": 441,
   "metadata": {},
   "outputs": [
    {
     "name": "stdout",
     "output_type": "stream",
     "text": [
      "car\n"
     ]
    }
   ],
   "source": [
    "if np.argmax(model_out)==0:\n",
    "    print(\"Bike\")\n",
    "elif np.argmax(model_out)==1:\n",
    "    print(\"car\")\n",
    "else:\n",
    "    print(\"Person\")"
   ]
  },
  {
   "cell_type": "code",
   "execution_count": 439,
   "metadata": {
    "scrolled": true
   },
   "outputs": [],
   "source": [
    "pass"
   ]
  },
  {
   "cell_type": "code",
   "execution_count": null,
   "metadata": {},
   "outputs": [],
   "source": []
  }
 ],
 "metadata": {
  "kernelspec": {
   "display_name": "Python 3",
   "language": "python",
   "name": "python3"
  },
  "language_info": {
   "codemirror_mode": {
    "name": "ipython",
    "version": 3
   },
   "file_extension": ".py",
   "mimetype": "text/x-python",
   "name": "python",
   "nbconvert_exporter": "python",
   "pygments_lexer": "ipython3",
   "version": "3.7.4"
  }
 },
 "nbformat": 4,
 "nbformat_minor": 2
}
