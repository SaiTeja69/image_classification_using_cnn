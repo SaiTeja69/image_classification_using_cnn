{
 "cells": [
  {
   "cell_type": "code",
   "execution_count": 100,
   "metadata": {},
   "outputs": [
    {
     "name": "stdout",
     "output_type": "stream",
     "text": [
      "curses is not supported on this machine (please install/reinstall curses for an optimal experience)\n",
      "WARNING:tensorflow:From c:\\python\\lib\\site-packages\\tflearn\\helpers\\summarizer.py:9: The name tf.summary.merge is deprecated. Please use tf.compat.v1.summary.merge instead.\n",
      "\n",
      "WARNING:tensorflow:From c:\\python\\lib\\site-packages\\tflearn\\helpers\\trainer.py:25: The name tf.summary.FileWriter is deprecated. Please use tf.compat.v1.summary.FileWriter instead.\n",
      "\n",
      "WARNING:tensorflow:From c:\\python\\lib\\site-packages\\tflearn\\collections.py:13: The name tf.GraphKeys is deprecated. Please use tf.compat.v1.GraphKeys instead.\n",
      "\n",
      "WARNING:tensorflow:From c:\\python\\lib\\site-packages\\tflearn\\config.py:123: The name tf.get_collection is deprecated. Please use tf.compat.v1.get_collection instead.\n",
      "\n",
      "WARNING:tensorflow:From c:\\python\\lib\\site-packages\\tflearn\\config.py:129: The name tf.add_to_collection is deprecated. Please use tf.compat.v1.add_to_collection instead.\n",
      "\n",
      "WARNING:tensorflow:From c:\\python\\lib\\site-packages\\tflearn\\config.py:131: The name tf.assign is deprecated. Please use tf.compat.v1.assign instead.\n",
      "\n"
     ]
    }
   ],
   "source": [
    "import numpy as np\n",
    "import tensorflow as tf\n",
    "import cv2\n",
    "import os\n",
    "from tqdm import tqdm\n",
    "from random import shuffle\n",
    "import tflearn \n",
    "from tflearn.layers.conv import conv_2d, max_pool_2d \n",
    "from tflearn.layers.core import input_data, dropout, fully_connected \n",
    "from tflearn.layers.estimator import regression "
   ]
  },
  {
   "cell_type": "code",
   "execution_count": 101,
   "metadata": {},
   "outputs": [],
   "source": [
    "num_train_imgs = 1064\n",
    "num_test_imgs = 187\n",
    "num_classes = 3\n",
    "image_pixels = 22500  \n",
    "IMG_SIZE=50\n",
    "x = 'training_data\\\\images'\n",
    "y = 'test_data\\\\images'\n",
    "TRAIN_DIR=os.path.join(os.getcwd(),x)\n",
    "TEST_DIR=os.path.join(os.getcwd(),y)\n",
    "results_path = 'results'"
   ]
  },
  {
   "cell_type": "code",
   "execution_count": 102,
   "metadata": {},
   "outputs": [],
   "source": [
    "def label_img(img): \n",
    "    word_label = img.split('_')[0] \n",
    "    # DIY One hot encoder \n",
    "    if word_label == 'bike': return [1, 0, 0] \n",
    "    elif word_label == 'carsgraz': return [0, 1, 0]\n",
    "    elif word_label=='person' : return[0 , 0, 1]"
   ]
  },
  {
   "cell_type": "code",
   "execution_count": 103,
   "metadata": {},
   "outputs": [],
   "source": [
    "def create_train_data(): \n",
    "    training_data = [] \n",
    "    training_label=[]\n",
    "    for img in tqdm(os.listdir(TRAIN_DIR)): \n",
    "  \n",
    " \n",
    "        label = label_img(img) \n",
    "  \n",
    "        path = os.path.join(TRAIN_DIR, img) \n",
    "  \n",
    "        # loading the image from the path and then converting them into \n",
    "        # greyscale for easier covnet prob \n",
    "        img = cv2.imread(path, cv2.IMREAD_GRAYSCALE) \n",
    "  \n",
    "        # resizing the image for processing them in the covnet \n",
    "        #img = cv2.resize(img, (IMG_SIZE, IMG_SIZE)) \n",
    "  \n",
    "        # final step-forming the training data list with numpy array of the images \n",
    "        training_data.append(np.array(img))\n",
    "        training_label.append(label)\n",
    "  \n",
    "    # shuffling of the training data to preserve the random state of our data \n",
    "    shuffle(training_data) \n",
    "  \n",
    "    # saving our trained data for further uses if required \n",
    "    np.save('train_data.npy', training_data) \n",
    "    return training_data "
   ]
  },
  {
   "cell_type": "code",
   "execution_count": 104,
   "metadata": {},
   "outputs": [],
   "source": [
    "def process_test_data(): \n",
    "    testing_data = [] \n",
    "    testing_label=[]\n",
    "    img_num=0\n",
    "    for img in tqdm(os.listdir(TEST_DIR)): \n",
    "        path = os.path.join(TEST_DIR, img) \n",
    "        img = cv2.imread(path, cv2.IMREAD_GRAYSCALE) \n",
    "        #img = cv2.resize(img, (IMG_SIZE, IMG_SIZE)) \n",
    "        testing_data.append(np.array(img)\n",
    "        training_data.append(img_num)\n",
    "        img_num+=1\n",
    "        hell=np.array(img)\n",
    "          \n",
    "    shuffle(testing_data) \n",
    "    np.save('test_data.npy', testing_data) \n",
    "    return testing_data,hell"
   ]
  },
  {
   "cell_type": "code",
   "execution_count": 105,
   "metadata": {},
   "outputs": [
    {
     "name": "stderr",
     "output_type": "stream",
     "text": [
      "100%|████████████████████████████████████████████████████████████████████████████| 1066/1066 [00:00<00:00, 1185.11it/s]\n",
      "100%|██████████████████████████████████████████████████████████████████████████████| 190/190 [00:00<00:00, 1157.86it/s]\n"
     ]
    }
   ],
   "source": [
    "train_data = create_train_data() \n",
    "test_data = process_test_data()"
   ]
  },
  {
   "cell_type": "code",
   "execution_count": 107,
   "metadata": {},
   "outputs": [
    {
     "ename": "ValueError",
     "evalue": "too many values to unpack (expected 2)",
     "output_type": "error",
     "traceback": [
      "\u001b[1;31m---------------------------------------------------------------------------\u001b[0m",
      "\u001b[1;31mValueError\u001b[0m                                Traceback (most recent call last)",
      "\u001b[1;32m<ipython-input-107-7303ab5336c9>\u001b[0m in \u001b[0;36m<module>\u001b[1;34m\u001b[0m\n\u001b[1;32m----> 1\u001b[1;33m \u001b[0mtraining_data\u001b[0m\u001b[1;33m,\u001b[0m\u001b[0mtraining_labels\u001b[0m\u001b[1;33m=\u001b[0m\u001b[0menumerate\u001b[0m\u001b[1;33m(\u001b[0m\u001b[0mtrain_data\u001b[0m\u001b[1;33m)\u001b[0m\u001b[1;33m\u001b[0m\u001b[1;33m\u001b[0m\u001b[0m\n\u001b[0m",
      "\u001b[1;31mValueError\u001b[0m: too many values to unpack (expected 2)"
     ]
    }
   ],
   "source": [
    "\n"
   ]
  },
  {
   "cell_type": "code",
   "execution_count": null,
   "metadata": {},
   "outputs": [],
   "source": []
  },
  {
   "cell_type": "code",
   "execution_count": null,
   "metadata": {},
   "outputs": [],
   "source": []
  }
 ],
 "metadata": {
  "kernelspec": {
   "display_name": "Python 3",
   "language": "python",
   "name": "python3"
  },
  "language_info": {
   "codemirror_mode": {
    "name": "ipython",
    "version": 3
   },
   "file_extension": ".py",
   "mimetype": "text/x-python",
   "name": "python",
   "nbconvert_exporter": "python",
   "pygments_lexer": "ipython3",
   "version": "3.7.4"
  }
 },
 "nbformat": 4,
 "nbformat_minor": 2
}
