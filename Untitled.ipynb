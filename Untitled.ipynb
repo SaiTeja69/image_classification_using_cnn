{
 "cells": [
  {
   "cell_type": "code",
   "execution_count": 295,
   "metadata": {},
   "outputs": [],
   "source": [
    "import numpy as np\n",
    "import tensorflow as tf\n",
    "import cv2\n",
    "import os\n",
    "from tqdm import tqdm\n",
    "from random import shuffle\n",
    "import tflearn \n",
    "from tflearn.layers.conv import conv_2d, max_pool_2d \n",
    "from tflearn.layers.core import input_data, dropout, fully_connected \n",
    "from tflearn.layers.estimator import regression "
   ]
  },
  {
   "cell_type": "code",
   "execution_count": 296,
   "metadata": {},
   "outputs": [],
   "source": [
    "num_train_imgs = 1064\n",
    "num_test_imgs = 187\n",
    "num_classes = 3\n",
    "image_pixels = 22500  \n",
    "IMG_SIZE=50\n",
    "x = 'training_data\\\\images'\n",
    "y = 'test_data\\\\images'\n",
    "TRAIN_DIR=os.path.join(os.getcwd(),x)\n",
    "TEST_DIR=os.path.join(os.getcwd(),y)\n",
    "results_path = 'results'"
   ]
  },
  {
   "cell_type": "code",
   "execution_count": 297,
   "metadata": {},
   "outputs": [],
   "source": [
    "def label_img(img): \n",
    "    word_label = [z for z in str(img).split('_')] \n",
    "    return word_label[0]"
   ]
  },
  {
   "cell_type": "code",
   "execution_count": 298,
   "metadata": {},
   "outputs": [],
   "source": [
    "def create_train_data(): \n",
    "    training_data = [] \n",
    "    training_label=[]\n",
    "    for img in tqdm(os.listdir(TRAIN_DIR)): \n",
    "  \n",
    " \n",
    "        label = label_img(img) \n",
    "  \n",
    "        path = os.path.join(TRAIN_DIR, img) \n",
    "  \n",
    "        # loading the image from the path and then converting them into \n",
    "        # greyscale for easier covnet prob \n",
    "        img = cv2.imread(path, cv2.IMREAD_GRAYSCALE) \n",
    "  \n",
    "        # resizing the image for processing them in the covnet \n",
    "        #img = cv2.resize(img, (IMG_SIZE, IMG_SIZE)) \n",
    "  \n",
    "        # final step-forming the training data list with numpy array of the images \n",
    "        training_data.append(np.array(img))\n",
    "        training_label.append(np.array(label))\n",
    "\n",
    "  \n",
    "    # saving our trained data for further uses if required \n",
    "    np.save('train_data.npy', training_data) \n",
    "    return training_data,training_label"
   ]
  },
  {
   "cell_type": "code",
   "execution_count": 299,
   "metadata": {},
   "outputs": [],
   "source": [
    "def process_test_data(): \n",
    "    testing_data = [] \n",
    "    testing_label=[]\n",
    "    img_num=0\n",
    "    for img in tqdm(os.listdir(TEST_DIR)): \n",
    "        path = os.path.join(TEST_DIR, img) \n",
    "        img = cv2.imread(path, cv2.IMREAD_GRAYSCALE) \n",
    "        #img = cv2.resize(img, (IMG_SIZE, IMG_SIZE)) \n",
    "        testing_data.append(np.array(img))\n",
    "        testing_label.append(img_num)\n",
    "        img_num+=1\n",
    "        hell=np.array(img)\n",
    "     \n",
    "    np.save('test_data.npy', testing_data) \n",
    "    return testing_data,testing_label"
   ]
  },
  {
   "cell_type": "code",
   "execution_count": 300,
   "metadata": {},
   "outputs": [
    {
     "name": "stderr",
     "output_type": "stream",
     "text": [
      "100%|████████████████████████████████████████████████████████████████████████████| 1064/1064 [00:00<00:00, 1210.80it/s]\n",
      "100%|██████████████████████████████████████████████████████████████████████████████| 187/187 [00:00<00:00, 1173.53it/s]\n"
     ]
    }
   ],
   "source": [
    "train_data,trainlabel = create_train_data() \n",
    "test_data,test_label = process_test_data()"
   ]
  },
  {
   "cell_type": "code",
   "execution_count": 301,
   "metadata": {},
   "outputs": [],
   "source": [
    "train_label=[]\n",
    "for i in trainlabel:\n",
    "    if i=='bike' or i=='bikes':\n",
    "        train_label.append([1,0,0])\n",
    "    elif i=='carsgraz':\n",
    "        train_label.append([0,1,0])\n",
    "    else:\n",
    "        train_label.append([0,0,1])"
   ]
  },
  {
   "cell_type": "code",
   "execution_count": 303,
   "metadata": {},
   "outputs": [
    {
     "data": {
      "text/plain": [
       "[0, 0, 1]"
      ]
     },
     "execution_count": 303,
     "metadata": {},
     "output_type": "execute_result"
    }
   ],
   "source": []
  },
  {
   "cell_type": "code",
   "execution_count": null,
   "metadata": {},
   "outputs": [],
   "source": []
  }
 ],
 "metadata": {
  "kernelspec": {
   "display_name": "Python 3",
   "language": "python",
   "name": "python3"
  },
  "language_info": {
   "codemirror_mode": {
    "name": "ipython",
    "version": 3
   },
   "file_extension": ".py",
   "mimetype": "text/x-python",
   "name": "python",
   "nbconvert_exporter": "python",
   "pygments_lexer": "ipython3",
   "version": "3.7.4"
  }
 },
 "nbformat": 4,
 "nbformat_minor": 2
}
